{
 "cells": [
  {
   "cell_type": "markdown",
   "metadata": {},
   "source": [
    "# 必要なファイルを読み込み"
   ]
  },
  {
   "cell_type": "code",
   "execution_count": 2,
   "metadata": {},
   "outputs": [],
   "source": [
    "from selenium import webdriver\n",
    "from selenium.common.exceptions import NoSuchElementException"
   ]
  },
  {
   "cell_type": "markdown",
   "metadata": {},
   "source": [
    "## Driverの設定"
   ]
  },
  {
   "cell_type": "code",
   "execution_count": 3,
   "metadata": {},
   "outputs": [],
   "source": [
    "driver = webdriver.Chrome(\"./chromedriver\")\n",
    "driver.implicitly_wait(50)"
   ]
  },
  {
   "cell_type": "markdown",
   "metadata": {},
   "source": [
    "## データの取得"
   ]
  },
  {
   "cell_type": "code",
   "execution_count": 10,
   "metadata": {},
   "outputs": [
    {
     "output_type": "execute_result",
     "data": {
      "text/plain": "667"
     },
     "metadata": {},
     "execution_count": 10
    }
   ],
   "source": [
    "driver.set_page_load_timeout(50)\n",
    "try:\n",
    "    driver.get(\"https://egg.5ch.net/test/read.cgi/slotk/1591719528/\")\n",
    "except:\n",
    "    print(\"time out!\")\n",
    "\n",
    "\n",
    "try:\n",
    "    element = driver.find_element_by_class_name(\"bottommenu\") \n",
    "except:\n",
    "    print(\"load time out!\")\n",
    "\n",
    "posts = driver.find_elements_by_class_name(\"post\")\n",
    "len(posts)"
   ]
  },
  {
   "cell_type": "markdown",
   "metadata": {},
   "source": [
    "## 各要素内のデータ確認"
   ]
  },
  {
   "cell_type": "code",
   "execution_count": 6,
   "metadata": {},
   "outputs": [],
   "source": [
    "post = posts[0]"
   ]
  },
  {
   "cell_type": "code",
   "execution_count": 7,
   "metadata": {},
   "outputs": [
    {
     "output_type": "execute_result",
     "data": {
      "text/plain": "'ID:TXBkr9Vma'"
     },
     "metadata": {},
     "execution_count": 7
    }
   ],
   "source": [
    "post.get_attribute(\"data-userid\")"
   ]
  },
  {
   "cell_type": "code",
   "execution_count": 8,
   "metadata": {},
   "outputs": [],
   "source": [
    "message = post.find_element_by_class_name(\"message\")"
   ]
  },
  {
   "cell_type": "code",
   "execution_count": 9,
   "metadata": {},
   "outputs": [
    {
     "output_type": "execute_result",
     "data": {
      "text/plain": "'!extend:default:vvvvvv\\n!extend:default:vvvvvv\\n!extend:default:vvvvvv\\n!extend:default:vvvvvv\\n\\n機種名\\u3000マジカルハロウィン5\\n導入日\\u30002016年2月22日\\nタイプ\\u3000 A+ART\\nART純増\\u30001.0枚\\n初期ゲーム数\\u300030Gor100G+α\\nBB獲得枚数\\u3000176枚(異色)，200枚(青7)，256枚(赤7)\\nRB獲得枚数\\u300048枚\\n天井\\u3000\\u3000777G（※6択リプレイ失敗後）\\nベース\\u300031.9～33.2G\\n\\n設定\\u3000BB確率\\u3000RB確率\\u3000ART確率\\u3000BR合成\\u3000出玉率\\n1\\u3000\\u30001/329.3 \\u30001/339.6 \\u30001/376.5 \\u30001/167.2 \\u3000*97.1%\\n2\\u3000\\u30001/329.3 \\u30001/339.6 \\u30001/334.2 \\u30001/167.2 \\u3000*98.6%\\n3\\u3000\\u30001/329.3 \\u30001/339.6 \\u30001/341.0 \\u30001/167.2 \\u3000100.4%\\n4\\u3000\\u30001/329.3 \\u30001/339.6 \\u30001/299.8 \\u30001/167.2 \\u3000104.2%\\n5\\u3000\\u30001/310.6 \\u30001/329.3 \\u30001/315.6 \\u30001/159.8 \\u3000107.1%\\n6\\u3000\\u30001/300.6 \\u30001/300.6 \\u30001/272.2 \\u30001/150.3 \\u3000110.7%\\n\\n■パチスロ「マジカルハロウィン5」公式サイト\\nhttps://www.konami.com/amusement/psm/slot/k/magihallo5/\\n\\n■マジカルハロウィンシリーズポータルサイト\\nhttps://www.konami.com/amusement/psm/kpe_mh/\\n\\n■解析みるまえにまず読む公式情報\\nTrickorTweet\\nhttps://www.konami.com/amusement/psm/slot/k/magihallo5/trick/\\n続・まじおつ(アーカイブ)\\nhttps://www.konami.com/amusement/psm/slot/k/magihallo5/blog/\\nまじおつ(マジハロ総合)\\nhttps://www.konami.com/amusement/psm/portal/magihallo/magiotsu/index.html\\n\\n次スレは>>970が宣言して建てて下さい\\nスレが建つ迄は書き込みを控えてね、ローズとの約束よ\\n\\nﾜｯﾁｮｲ・IP入りでスレ立てするときは1行目に\\n!extend:default:vvvvvv\\nを入れてください（vが6つ）\\n\\nﾜｯﾁｮｲのみの場合は1行目に\\n!extend:default:vvvvv\\nを入れてください（vが5つ）\\n\\n\\n※前スレ\\n【マジハロ】マジカルハロウィン5 part109\\nhttps://egg.5ch.net/test/read.cgi/slotk/1587124973/\\n\\n【マジハロ】マジカルハロウィン5 part110\\nhttps://egg.5ch.net/test/read.cgi/slotk/1590221833/\\nVIPQ2_EXTDAT: default:vvvvvv:1000:512:: EXT was configured'"
     },
     "metadata": {},
     "execution_count": 9
    }
   ],
   "source": [
    "message.text"
   ]
  },
  {
   "cell_type": "markdown",
   "metadata": {},
   "source": [
    "# 出力処理の作成\n",
    "データの構造が確認できたので、出力処理を作成する\n"
   ]
  },
  {
   "cell_type": "code",
   "execution_count": 6,
   "metadata": {},
   "outputs": [],
   "source": [
    "import re\n",
    "# データの定義\n",
    "data = []"
   ]
  },
  {
   "cell_type": "code",
   "execution_count": 7,
   "metadata": {},
   "outputs": [],
   "source": [
    "for post in posts:\n",
    "    tmp = {}\n",
    "    tmp_str = post.get_attribute(\"data-userid\")\n",
    "    tmp[\"ID\"] = re.sub('^ID:', '', tmp_str)\n",
    "    tmp[\"message\"] = post.find_element_by_class_name(\"message\").text\n",
    "    data.append(tmp)"
   ]
  },
  {
   "cell_type": "code",
   "execution_count": 9,
   "metadata": {},
   "outputs": [
    {
     "output_type": "execute_result",
     "data": {
      "text/plain": "            ID                                            message\n0    TXBkr9Vma  !extend:default:vvvvvv\\n!extend:default:vvvvvv...\n1    TXBkr9Vma  ■カボチャンス\\n\\n【突入リプレイ】\\n*30G：1/2.8\\n100G：1/128\\n※...\n2    Z3c+SshDa  ■設定示唆\\n\\n【ボーナス重複】\\n弱チェ+異色BIGorREG：設定1-5：1/2731...\n3    Z3c+SshDa  ■設定示唆2\\n\\n【ボーナス確定画面】\\nボーナス確定または終了画面時にアリワンが出た場合...\n4    Z3c+SshDa  ■ボナ察知手順\\nお勧めはスイカが揃いやすく枚数的にお得な【手順1】\\n「チャンス」ボイス発...\n..         ...                                                ...\n195  4/ubB/Or0   偉い人()が出張ってきてここはこうじゃろそこはちがうじゃろと\\n口だしし始めるんじゃないかなあw\n196  Hr4gG92Q0                     筐体ランプは素晴らしいね。\\n演出は狂ったバランスだけどもw\n197  ivQmeuorK                 >>192\\n80%なんてそんなものだよ\\nスーカボの継続はどうよ？\n198  2kZc3nMN0                                     >>181\\nオタクだからね\n199  eM/WYHvNa                >>181\\n「ローズってばばあだよな」\\n「ばばあだけどかわいいよ」\n\n[200 rows x 2 columns]",
      "text/html": "<div>\n<style scoped>\n    .dataframe tbody tr th:only-of-type {\n        vertical-align: middle;\n    }\n\n    .dataframe tbody tr th {\n        vertical-align: top;\n    }\n\n    .dataframe thead th {\n        text-align: right;\n    }\n</style>\n<table border=\"1\" class=\"dataframe\">\n  <thead>\n    <tr style=\"text-align: right;\">\n      <th></th>\n      <th>ID</th>\n      <th>message</th>\n    </tr>\n  </thead>\n  <tbody>\n    <tr>\n      <th>0</th>\n      <td>TXBkr9Vma</td>\n      <td>!extend:default:vvvvvv\\n!extend:default:vvvvvv...</td>\n    </tr>\n    <tr>\n      <th>1</th>\n      <td>TXBkr9Vma</td>\n      <td>■カボチャンス\\n\\n【突入リプレイ】\\n*30G：1/2.8\\n100G：1/128\\n※...</td>\n    </tr>\n    <tr>\n      <th>2</th>\n      <td>Z3c+SshDa</td>\n      <td>■設定示唆\\n\\n【ボーナス重複】\\n弱チェ+異色BIGorREG：設定1-5：1/2731...</td>\n    </tr>\n    <tr>\n      <th>3</th>\n      <td>Z3c+SshDa</td>\n      <td>■設定示唆2\\n\\n【ボーナス確定画面】\\nボーナス確定または終了画面時にアリワンが出た場合...</td>\n    </tr>\n    <tr>\n      <th>4</th>\n      <td>Z3c+SshDa</td>\n      <td>■ボナ察知手順\\nお勧めはスイカが揃いやすく枚数的にお得な【手順1】\\n「チャンス」ボイス発...</td>\n    </tr>\n    <tr>\n      <th>...</th>\n      <td>...</td>\n      <td>...</td>\n    </tr>\n    <tr>\n      <th>195</th>\n      <td>4/ubB/Or0</td>\n      <td>偉い人()が出張ってきてここはこうじゃろそこはちがうじゃろと\\n口だしし始めるんじゃないかなあw</td>\n    </tr>\n    <tr>\n      <th>196</th>\n      <td>Hr4gG92Q0</td>\n      <td>筐体ランプは素晴らしいね。\\n演出は狂ったバランスだけどもw</td>\n    </tr>\n    <tr>\n      <th>197</th>\n      <td>ivQmeuorK</td>\n      <td>&gt;&gt;192\\n80%なんてそんなものだよ\\nスーカボの継続はどうよ？</td>\n    </tr>\n    <tr>\n      <th>198</th>\n      <td>2kZc3nMN0</td>\n      <td>&gt;&gt;181\\nオタクだからね</td>\n    </tr>\n    <tr>\n      <th>199</th>\n      <td>eM/WYHvNa</td>\n      <td>&gt;&gt;181\\n「ローズってばばあだよな」\\n「ばばあだけどかわいいよ」</td>\n    </tr>\n  </tbody>\n</table>\n<p>200 rows × 2 columns</p>\n</div>"
     },
     "metadata": {},
     "execution_count": 9
    }
   ],
   "source": [
    "import pandas as pd\n",
    "\n",
    "df = pd.io.json.json_normalize(data)\n",
    "df.to_csv(\"data.csv\")\n",
    "df"
   ]
  },
  {
   "cell_type": "code",
   "execution_count": null,
   "metadata": {},
   "outputs": [],
   "source": []
  }
 ],
 "metadata": {
  "language_info": {
   "codemirror_mode": {
    "name": "ipython",
    "version": 3
   },
   "file_extension": ".py",
   "mimetype": "text/x-python",
   "name": "python",
   "nbconvert_exporter": "python",
   "pygments_lexer": "ipython3",
   "version": "3.8.3-final"
  },
  "orig_nbformat": 2,
  "kernelspec": {
   "name": "python38364bittwitterconda0677d9a56dc04ea3964a8f1ed818fe2f",
   "display_name": "Python 3.8.3 64-bit ('Twitter': conda)"
  }
 },
 "nbformat": 4,
 "nbformat_minor": 2
}